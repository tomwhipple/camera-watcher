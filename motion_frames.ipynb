{
 "cells": [
  {
   "cell_type": "code",
   "execution_count": 1,
   "id": "10224002-b901-4188-a890-886c5f014436",
   "metadata": {},
   "outputs": [],
   "source": [
    "import os, sys\n",
    "import ffmpeg\n",
    "import json\n",
    "import numpy as np\n",
    "from ipywidgets import interact\n",
    "from matplotlib import pyplot as plt\n",
    "    \n",
    "import sqlalchemy\n",
    "from sqlalchemy import select\n",
    "\n",
    "import cv2 as cv\n",
    "\n",
    "from watcher import EventObservation, MotionEvent, TunneledConnection"
   ]
  },
  {
   "cell_type": "code",
   "execution_count": 2,
   "id": "46ec5147-68f9-44a4-bac4-54bd37ba4907",
   "metadata": {},
   "outputs": [],
   "source": [
    "VIDEO_BASE_DIR = '/Volumes/Video Captures'\n",
    "\n",
    "tc = TunneledConnection().connect()\n",
    "session = sqlalchemy.orm.Session(tc)"
   ]
  },
  {
   "cell_type": "code",
   "execution_count": 3,
   "id": "73a96152-a473-470f-be3c-5fe6b22ed772",
   "metadata": {},
   "outputs": [],
   "source": [
    "event_name = '20220406_101444_1709'\n",
    "\n",
    "stmt = select(EventObservation).where(EventObservation.event_name == event_name)\n",
    "event = session.execute(stmt).scalar()\n",
    "\n",
    "stmt = select(MotionEvent).where(MotionEvent.event_name == event_name)\n",
    "motions = session.execute(stmt).scalars().all()"
   ]
  },
  {
   "cell_type": "code",
   "execution_count": 4,
   "id": "05d08bd7-eaa1-4973-b832-0c0a815747d5",
   "metadata": {},
   "outputs": [],
   "source": [
    "video_file = event.file_path(alt_base_dir=VIDEO_BASE_DIR)\n",
    "info = ffmpeg.probe(video_file)\n",
    "\n",
    "video_info = next(stream for stream in info['streams'] if stream['codec_type'] == 'video')\n",
    "width = int(video_info['width'])\n",
    "height = int (video_info['height'])\n",
    "num_frames = int(video_info['nb_frames'])"
   ]
  },
  {
   "cell_type": "code",
   "execution_count": 5,
   "id": "8175e4f4-19a2-49a0-b739-99cc5465c049",
   "metadata": {
    "collapsed": true,
    "jupyter": {
     "outputs_hidden": true
    },
    "tags": []
   },
   "outputs": [
    {
     "name": "stderr",
     "output_type": "stream",
     "text": [
      "ffmpeg version 5.0.1 Copyright (c) 2000-2022 the FFmpeg developers\n",
      "  built with Apple clang version 13.1.6 (clang-1316.0.21.2)\n",
      "  configuration: --prefix=/usr/local/Cellar/ffmpeg/5.0.1 --enable-shared --enable-pthreads --enable-version3 --cc=clang --host-cflags= --host-ldflags= --enable-ffplay --enable-gnutls --enable-gpl --enable-libaom --enable-libbluray --enable-libdav1d --enable-libmp3lame --enable-libopus --enable-librav1e --enable-librist --enable-librubberband --enable-libsnappy --enable-libsrt --enable-libtesseract --enable-libtheora --enable-libvidstab --enable-libvmaf --enable-libvorbis --enable-libvpx --enable-libwebp --enable-libx264 --enable-libx265 --enable-libxml2 --enable-libxvid --enable-lzma --enable-libfontconfig --enable-libfreetype --enable-frei0r --enable-libass --enable-libopencore-amrnb --enable-libopencore-amrwb --enable-libopenjpeg --enable-libspeex --enable-libsoxr --enable-libzmq --enable-libzimg --disable-libjack --disable-indev=jack --enable-videotoolbox\n",
      "  libavutil      57. 17.100 / 57. 17.100\n",
      "  libavcodec     59. 18.100 / 59. 18.100\n",
      "  libavformat    59. 16.100 / 59. 16.100\n",
      "  libavdevice    59.  4.100 / 59.  4.100\n",
      "  libavfilter     8. 24.100 /  8. 24.100\n",
      "  libswscale      6.  4.100 /  6.  4.100\n",
      "  libswresample   4.  3.100 /  4.  3.100\n",
      "  libpostproc    56.  3.100 / 56.  3.100\n",
      "Input #0, mov,mp4,m4a,3gp,3g2,mj2, from '/Volumes/Video Captures/wellerDriveway/motion/2022/04/06/20220406_101444_1709.mp4':\n",
      "  Metadata:\n",
      "    major_brand     : isom\n",
      "    minor_version   : 512\n",
      "    compatible_brands: isomiso2avc1mp41\n",
      "    encoder         : Lavf58.20.100\n",
      "  Duration: 00:00:37.26, start: 0.035000, bitrate: 534 kb/s\n",
      "  Stream #0:0[0x1](und): Video: h264 (High) (avc1 / 0x31637661), yuv420p(tv, bt709, progressive), 1280x720 [SAR 1:1 DAR 16:9], 533 kb/s, 15.54 fps, 29.97 tbr, 90k tbn (default)\n",
      "    Metadata:\n",
      "      handler_name    : VideoHandler\n",
      "      vendor_id       : [0][0][0][0]\n",
      "Stream mapping:\n",
      "  Stream #0:0 -> #0:0 (h264 (native) -> rawvideo (native))\n",
      "Press [q] to stop, [?] for help\n",
      "Output #0, rawvideo, to 'pipe:':\n",
      "  Metadata:\n",
      "    major_brand     : isom\n",
      "    minor_version   : 512\n",
      "    compatible_brands: isomiso2avc1mp41\n",
      "    encoder         : Lavf59.16.100\n",
      "  Stream #0:0(und): Video: rawvideo (RGB[24] / 0x18424752), rgb24(pc, gbr/bt709/bt709, progressive), 1280x720 [SAR 1:1 DAR 16:9], q=2-31, 343211 kb/s, 15.52 fps, 15.52 tbn (default)\n",
      "    Metadata:\n",
      "      handler_name    : VideoHandler\n",
      "      vendor_id       : [0][0][0][0]\n",
      "      encoder         : Lavc59.18.100 rawvideo\n",
      "frame=  580 fps=370 q=-0.0 Lsize= 1566000kB time=00:00:37.37 bitrate=343211.2kbits/s dup=2 drop=1 speed=23.8x    \n",
      "video:1566000kB audio:0kB subtitle:0kB other streams:0kB global headers:0kB muxing overhead: 0.000000%\n"
     ]
    }
   ],
   "source": [
    "out, err = (\n",
    "    ffmpeg\n",
    "    .input(video_file)\n",
    "    .output('pipe:', format='rawvideo', pix_fmt='rgb24')\n",
    "    .run(capture_stdout=True)\n",
    ");\n",
    "video = (\n",
    "    np\n",
    "    .frombuffer(out, np.uint8)\n",
    "    .reshape([-1, height, width, 3])\n",
    ")"
   ]
  },
  {
   "cell_type": "code",
   "execution_count": 9,
   "id": "f708ef2e-9fa0-4d7a-ba2d-f28da8ebf422",
   "metadata": {},
   "outputs": [],
   "source": [
    "GREEN = (0, 255, 0)\n",
    "\n",
    "for m in motions:\n",
    "    (y, x, h, w) = m.box()\n",
    "    f = m.frame\n",
    "\n",
    "    p0 = (y,x)\n",
    "    p1 = (y+h, x+w)\n",
    "\n",
    "    cv.rectangle(video[f,:,:,:], p0, p1, GREEN, 2);"
   ]
  },
  {
   "cell_type": "code",
   "execution_count": 11,
   "id": "f9583f3b-465b-48ff-a9d3-916f4d8bed59",
   "metadata": {},
   "outputs": [
    {
     "data": {
      "application/vnd.jupyter.widget-view+json": {
       "model_id": "ef6590a70faf4444bc969849dfa1615d",
       "version_major": 2,
       "version_minor": 0
      },
      "text/plain": [
       "interactive(children=(IntSlider(value=0, description='frame', max=579), Output()), _dom_classes=('widget-inter…"
      ]
     },
     "metadata": {},
     "output_type": "display_data"
    }
   ],
   "source": [
    "@interact(frame=(0, num_frames))\n",
    "def show_frame(frame=0):\n",
    "    plt.rcParams['figure.figsize'] = [15, 8]\n",
    "    plt.imshow(video[frame,:,:,:])"
   ]
  }
 ],
 "metadata": {
  "kernelspec": {
   "display_name": "Python 3 (ipykernel)",
   "language": "python",
   "name": "python3"
  },
  "language_info": {
   "codemirror_mode": {
    "name": "ipython",
    "version": 3
   },
   "file_extension": ".py",
   "mimetype": "text/x-python",
   "name": "python",
   "nbconvert_exporter": "python",
   "pygments_lexer": "ipython3",
   "version": "3.9.12"
  }
 },
 "nbformat": 4,
 "nbformat_minor": 5
}
