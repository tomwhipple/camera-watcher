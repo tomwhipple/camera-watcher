{
 "cells": [
  {
   "cell_type": "code",
   "execution_count": 12,
   "id": "6efa8475-fe74-45c5-bf19-6ad188e4bef0",
   "metadata": {},
   "outputs": [],
   "source": [
    "import os, sys\n",
    "import ffmpeg\n",
    "import json\n",
    "import tempfile\n",
    "\n",
    "import numpy as np\n",
    "\n",
    "from ipywidgets import interact\n",
    "from matplotlib import pyplot as plt"
   ]
  },
  {
   "cell_type": "code",
   "execution_count": 8,
   "id": "cdbfc872-7f1d-4807-beca-652465f44277",
   "metadata": {},
   "outputs": [],
   "source": [
    "video_file = '/Volumes/Video Captures/wellerDriveway/motion/2022/04/04/20220404_155807_23.mp4'"
   ]
  },
  {
   "cell_type": "code",
   "execution_count": 24,
   "id": "4cabcd55-d8fa-4303-b2d2-d952519373db",
   "metadata": {
    "collapsed": true,
    "jupyter": {
     "outputs_hidden": true
    },
    "tags": []
   },
   "outputs": [
    {
     "name": "stderr",
     "output_type": "stream",
     "text": [
      "ffmpeg version 5.0 Copyright (c) 2000-2022 the FFmpeg developers\n",
      "  built with Apple clang version 13.0.0 (clang-1300.0.29.30)\n",
      "  configuration: --prefix=/usr/local/Cellar/ffmpeg/5.0 --enable-shared --enable-pthreads --enable-version3 --cc=clang --host-cflags= --host-ldflags= --enable-ffplay --enable-gnutls --enable-gpl --enable-libaom --enable-libbluray --enable-libdav1d --enable-libmp3lame --enable-libopus --enable-librav1e --enable-librist --enable-librubberband --enable-libsnappy --enable-libsrt --enable-libtesseract --enable-libtheora --enable-libvidstab --enable-libvmaf --enable-libvorbis --enable-libvpx --enable-libwebp --enable-libx264 --enable-libx265 --enable-libxml2 --enable-libxvid --enable-lzma --enable-libfontconfig --enable-libfreetype --enable-frei0r --enable-libass --enable-libopencore-amrnb --enable-libopencore-amrwb --enable-libopenjpeg --enable-libspeex --enable-libsoxr --enable-libzmq --enable-libzimg --disable-libjack --disable-indev=jack --enable-videotoolbox\n",
      "  libavutil      57. 17.100 / 57. 17.100\n",
      "  libavcodec     59. 18.100 / 59. 18.100\n",
      "  libavformat    59. 16.100 / 59. 16.100\n",
      "  libavdevice    59.  4.100 / 59.  4.100\n",
      "  libavfilter     8. 24.100 /  8. 24.100\n",
      "  libswscale      6.  4.100 /  6.  4.100\n",
      "  libswresample   4.  3.100 /  4.  3.100\n",
      "  libpostproc    56.  3.100 / 56.  3.100\n",
      "Input #0, mov,mp4,m4a,3gp,3g2,mj2, from '/Volumes/Video Captures/wellerDriveway/motion/2022/04/04/20220404_155807_23.mp4':\n",
      "  Metadata:\n",
      "    major_brand     : isom\n",
      "    minor_version   : 512\n",
      "    compatible_brands: isomiso2avc1mp41\n",
      "    encoder         : Lavf58.20.100\n",
      "  Duration: 00:00:11.87, start: 0.035000, bitrate: 589 kb/s\n",
      "  Stream #0:0[0x1](und): Video: h264 (High) (avc1 / 0x31637661), yuv420p(tv, bt709, progressive), 1280x720 [SAR 1:1 DAR 16:9], 587 kb/s, 15.67 fps, 29.97 tbr, 90k tbn (default)\n",
      "    Metadata:\n",
      "      handler_name    : VideoHandler\n",
      "      vendor_id       : [0][0][0][0]\n",
      "Stream mapping:\n",
      "  Stream #0:0 (h264) -> hflip:default\n",
      "  hflip:default -> Stream #0:0 (libx264)\n",
      "Press [q] to stop, [?] for help\n",
      "[libx264 @ 0x7fdae9706b80] using SAR=1/1\n",
      "[libx264 @ 0x7fdae9706b80] using cpu capabilities: MMX2 SSE2Fast SSSE3 SSE4.2 AVX FMA3 BMI2 AVX2\n",
      "[libx264 @ 0x7fdae9706b80] profile High, level 3.1, 4:2:0, 8-bit\n",
      "[libx264 @ 0x7fdae9706b80] 264 - core 163 r3060 5db6aa6 - H.264/MPEG-4 AVC codec - Copyleft 2003-2021 - http://www.videolan.org/x264.html - options: cabac=1 ref=3 deblock=1:0:0 analyse=0x3:0x113 me=hex subme=7 psy=1 psy_rd=1.00:0.00 mixed_ref=1 me_range=16 chroma_me=1 trellis=1 8x8dct=1 cqm=0 deadzone=21,11 fast_pskip=1 chroma_qp_offset=-2 threads=18 lookahead_threads=3 sliced_threads=0 nr=0 decimate=1 interlaced=0 bluray_compat=0 constrained_intra=0 bframes=3 b_pyramid=2 b_adapt=1 b_bias=0 direct=1 weightb=1 open_gop=0 weightp=2 keyint=250 keyint_min=15 scenecut=40 intra_refresh=0 rc_lookahead=40 rc=crf mbtree=1 crf=23.0 qcomp=0.60 qpmin=0 qpmax=69 qpstep=4 ip_ratio=1.40 aq=1:1.00\n",
      "Output #0, mp4, to 'output.mp4':\n",
      "  Metadata:\n",
      "    major_brand     : isom\n",
      "    minor_version   : 512\n",
      "    compatible_brands: isomiso2avc1mp41\n",
      "    encoder         : Lavf59.16.100\n",
      "  Stream #0:0: Video: h264 (avc1 / 0x31637661), yuv420p(tv, bt709, progressive), 1280x720 [SAR 1:1 DAR 16:9], q=2-31, 15.52 fps, 15517 tbn\n",
      "    Metadata:\n",
      "      encoder         : Lavc59.18.100 libx264\n",
      "    Side data:\n",
      "      cpb: bitrate max/min/avg: 0/0/0 buffer size: 0 vbv_delay: N/A\n",
      "frame=  186 fps=177 q=-1.0 Lsize=     942kB time=00:00:11.79 bitrate= 654.3kbits/s speed=11.2x    \n",
      "video:939kB audio:0kB subtitle:0kB other streams:0kB global headers:0kB muxing overhead: 0.322927%\n",
      "[libx264 @ 0x7fdae9706b80] frame I:1     Avg QP:18.43  size:178298\n",
      "[libx264 @ 0x7fdae9706b80] frame P:47    Avg QP:18.26  size: 15075\n",
      "[libx264 @ 0x7fdae9706b80] frame B:138   Avg QP:28.58  size:   536\n",
      "[libx264 @ 0x7fdae9706b80] consecutive B-frames:  0.5%  0.0%  4.8% 94.6%\n",
      "[libx264 @ 0x7fdae9706b80] mb I  I16..4: 28.3% 23.2% 48.5%\n",
      "[libx264 @ 0x7fdae9706b80] mb P  I16..4:  0.2%  0.8%  0.6%  P16..4: 21.4%  3.2%  3.7%  0.0%  0.0%    skip:70.0%\n",
      "[libx264 @ 0x7fdae9706b80] mb B  I16..4:  0.0%  0.0%  0.0%  B16..8:  8.3%  0.1%  0.1%  direct: 0.1%  skip:91.4%  L0:36.7% L1:62.7% BI: 0.6%\n",
      "[libx264 @ 0x7fdae9706b80] 8x8 transform intra:35.2% inter:30.9%\n",
      "[libx264 @ 0x7fdae9706b80] coded y,uvDC,uvAC intra: 93.2% 71.4% 23.2% inter: 3.7% 4.1% 0.3%\n",
      "[libx264 @ 0x7fdae9706b80] i16 v,h,dc,p:  7%  9% 51% 33%\n",
      "[libx264 @ 0x7fdae9706b80] i8 v,h,dc,ddl,ddr,vr,hd,vl,hu: 18% 25% 23%  4%  4%  4%  7%  4% 11%\n",
      "[libx264 @ 0x7fdae9706b80] i4 v,h,dc,ddl,ddr,vr,hd,vl,hu: 18% 27% 18%  5%  6%  5%  7%  4% 10%\n",
      "[libx264 @ 0x7fdae9706b80] i8c dc,h,v,p: 45% 31% 19%  5%\n",
      "[libx264 @ 0x7fdae9706b80] Weighted P-Frames: Y:2.1% UV:0.0%\n",
      "[libx264 @ 0x7fdae9706b80] ref P L0: 59.6% 16.0% 22.1%  2.2%  0.0%\n",
      "[libx264 @ 0x7fdae9706b80] ref B L0: 82.9% 16.1%  1.0%\n",
      "[libx264 @ 0x7fdae9706b80] ref B L1: 94.0%  6.0%\n",
      "[libx264 @ 0x7fdae9706b80] kb/s:641.25\n"
     ]
    },
    {
     "data": {
      "text/plain": [
       "(None, None)"
      ]
     },
     "execution_count": 24,
     "metadata": {},
     "output_type": "execute_result"
    }
   ],
   "source": [
    "\n",
    "stream = ffmpeg.input(video_file)\n",
    "stream = ffmpeg.hflip(stream)\n",
    "stream = ffmpeg.output(stream, 'output.mp4')\n",
    "stream = ffmpeg.overwrite_output(stream)\n",
    "ffmpeg.run(stream)\n",
    "\n"
   ]
  },
  {
   "cell_type": "code",
   "execution_count": 28,
   "id": "b5157586-2682-4eb7-b1b8-e5ecbca0b454",
   "metadata": {
    "collapsed": true,
    "jupyter": {
     "outputs_hidden": true
    },
    "tags": []
   },
   "outputs": [
    {
     "name": "stderr",
     "output_type": "stream",
     "text": [
      "ffmpeg version 5.0.1 Copyright (c) 2000-2022 the FFmpeg developers\n",
      "  built with Apple clang version 13.1.6 (clang-1316.0.21.2)\n",
      "  configuration: --prefix=/usr/local/Cellar/ffmpeg/5.0.1 --enable-shared --enable-pthreads --enable-version3 --cc=clang --host-cflags= --host-ldflags= --enable-ffplay --enable-gnutls --enable-gpl --enable-libaom --enable-libbluray --enable-libdav1d --enable-libmp3lame --enable-libopus --enable-librav1e --enable-librist --enable-librubberband --enable-libsnappy --enable-libsrt --enable-libtesseract --enable-libtheora --enable-libvidstab --enable-libvmaf --enable-libvorbis --enable-libvpx --enable-libwebp --enable-libx264 --enable-libx265 --enable-libxml2 --enable-libxvid --enable-lzma --enable-libfontconfig --enable-libfreetype --enable-frei0r --enable-libass --enable-libopencore-amrnb --enable-libopencore-amrwb --enable-libopenjpeg --enable-libspeex --enable-libsoxr --enable-libzmq --enable-libzimg --disable-libjack --disable-indev=jack --enable-videotoolbox\n",
      "  libavutil      57. 17.100 / 57. 17.100\n",
      "  libavcodec     59. 18.100 / 59. 18.100\n",
      "  libavformat    59. 16.100 / 59. 16.100\n",
      "  libavdevice    59.  4.100 / 59.  4.100\n",
      "  libavfilter     8. 24.100 /  8. 24.100\n",
      "  libswscale      6.  4.100 /  6.  4.100\n",
      "  libswresample   4.  3.100 /  4.  3.100\n",
      "  libpostproc    56.  3.100 / 56.  3.100\n",
      "Input #0, mov,mp4,m4a,3gp,3g2,mj2, from '/Volumes/Video Captures/wellerDriveway/motion/2022/04/04/20220404_155807_23.mp4':\n",
      "  Metadata:\n",
      "    major_brand     : isom\n",
      "    minor_version   : 512\n",
      "    compatible_brands: isomiso2avc1mp41\n",
      "    encoder         : Lavf58.20.100\n",
      "  Duration: 00:00:11.87, start: 0.035000, bitrate: 589 kb/s\n",
      "  Stream #0:0[0x1](und): Video: h264 (High) (avc1 / 0x31637661), yuv420p(tv, bt709, progressive), 1280x720 [SAR 1:1 DAR 16:9], 587 kb/s, 15.67 fps, 29.97 tbr, 90k tbn (default)\n",
      "    Metadata:\n",
      "      handler_name    : VideoHandler\n",
      "      vendor_id       : [0][0][0][0]\n",
      "Stream mapping:\n",
      "  Stream #0:0 (h264) -> hflip:default\n",
      "  hflip:default -> Stream #0:0 (libx264)\n",
      "Press [q] to stop, [?] for help\n",
      "[libx264 @ 0x7faf687072c0] using SAR=1/1\n",
      "[libx264 @ 0x7faf687072c0] using cpu capabilities: MMX2 SSE2Fast SSSE3 SSE4.2 AVX FMA3 BMI2 AVX2\n",
      "[libx264 @ 0x7faf687072c0] profile High, level 3.1, 4:2:0, 8-bit\n",
      "[libx264 @ 0x7faf687072c0] 264 - core 163 r3060 5db6aa6 - H.264/MPEG-4 AVC codec - Copyleft 2003-2021 - http://www.videolan.org/x264.html - options: cabac=1 ref=3 deblock=1:0:0 analyse=0x3:0x113 me=hex subme=7 psy=1 psy_rd=1.00:0.00 mixed_ref=1 me_range=16 chroma_me=1 trellis=1 8x8dct=1 cqm=0 deadzone=21,11 fast_pskip=1 chroma_qp_offset=-2 threads=18 lookahead_threads=3 sliced_threads=0 nr=0 decimate=1 interlaced=0 bluray_compat=0 constrained_intra=0 bframes=3 b_pyramid=2 b_adapt=1 b_bias=0 direct=1 weightb=1 open_gop=0 weightp=2 keyint=250 keyint_min=15 scenecut=40 intra_refresh=0 rc_lookahead=40 rc=crf mbtree=1 crf=23.0 qcomp=0.60 qpmin=0 qpmax=69 qpstep=4 ip_ratio=1.40 aq=1:1.00\n",
      "Output #0, mp4, to 'output.mp4':\n",
      "  Metadata:\n",
      "    major_brand     : isom\n",
      "    minor_version   : 512\n",
      "    compatible_brands: isomiso2avc1mp41\n",
      "    encoder         : Lavf59.16.100\n",
      "  Stream #0:0: Video: h264 (avc1 / 0x31637661), yuv420p(tv, bt709, progressive), 1280x720 [SAR 1:1 DAR 16:9], q=2-31, 15.52 fps, 15517 tbn\n",
      "    Metadata:\n",
      "      encoder         : Lavc59.18.100 libx264\n",
      "    Side data:\n",
      "      cpb: bitrate max/min/avg: 0/0/0 buffer size: 0 vbv_delay: N/A\n",
      "frame=  186 fps=180 q=-1.0 Lsize=     942kB time=00:00:11.79 bitrate= 654.3kbits/s speed=11.4x    \n",
      "video:939kB audio:0kB subtitle:0kB other streams:0kB global headers:0kB muxing overhead: 0.322927%\n",
      "[libx264 @ 0x7faf687072c0] frame I:1     Avg QP:18.43  size:178298\n",
      "[libx264 @ 0x7faf687072c0] frame P:47    Avg QP:18.26  size: 15075\n",
      "[libx264 @ 0x7faf687072c0] frame B:138   Avg QP:28.58  size:   536\n",
      "[libx264 @ 0x7faf687072c0] consecutive B-frames:  0.5%  0.0%  4.8% 94.6%\n",
      "[libx264 @ 0x7faf687072c0] mb I  I16..4: 28.3% 23.2% 48.5%\n",
      "[libx264 @ 0x7faf687072c0] mb P  I16..4:  0.2%  0.8%  0.6%  P16..4: 21.4%  3.2%  3.7%  0.0%  0.0%    skip:70.0%\n",
      "[libx264 @ 0x7faf687072c0] mb B  I16..4:  0.0%  0.0%  0.0%  B16..8:  8.3%  0.1%  0.1%  direct: 0.1%  skip:91.4%  L0:36.7% L1:62.7% BI: 0.6%\n",
      "[libx264 @ 0x7faf687072c0] 8x8 transform intra:35.2% inter:30.9%\n",
      "[libx264 @ 0x7faf687072c0] coded y,uvDC,uvAC intra: 93.2% 71.4% 23.2% inter: 3.7% 4.1% 0.3%\n",
      "[libx264 @ 0x7faf687072c0] i16 v,h,dc,p:  7%  9% 51% 33%\n",
      "[libx264 @ 0x7faf687072c0] i8 v,h,dc,ddl,ddr,vr,hd,vl,hu: 18% 25% 23%  4%  4%  4%  7%  4% 11%\n",
      "[libx264 @ 0x7faf687072c0] i4 v,h,dc,ddl,ddr,vr,hd,vl,hu: 18% 27% 18%  5%  6%  5%  7%  4% 10%\n",
      "[libx264 @ 0x7faf687072c0] i8c dc,h,v,p: 45% 31% 19%  5%\n",
      "[libx264 @ 0x7faf687072c0] Weighted P-Frames: Y:2.1% UV:0.0%\n",
      "[libx264 @ 0x7faf687072c0] ref P L0: 59.6% 16.0% 22.1%  2.2%  0.0%\n",
      "[libx264 @ 0x7faf687072c0] ref B L0: 82.9% 16.1%  1.0%\n",
      "[libx264 @ 0x7faf687072c0] ref B L1: 94.0%  6.0%\n",
      "[libx264 @ 0x7faf687072c0] kb/s:641.25\n"
     ]
    }
   ],
   "source": [
    "stream = (ffmpeg.input(video_file)\n",
    "    .hflip()\n",
    "    .output('output.mp4')\n",
    "    .overwrite_output()\n",
    "    .run()\n",
    "    )"
   ]
  },
  {
   "cell_type": "code",
   "execution_count": 3,
   "id": "61043681-780e-4eb7-b1f9-cc964c62c28e",
   "metadata": {
    "collapsed": true,
    "jupyter": {
     "outputs_hidden": true
    },
    "tags": []
   },
   "outputs": [
    {
     "name": "stdout",
     "output_type": "stream",
     "text": [
      "{\n",
      "  \"format\": {\n",
      "    \"bit_rate\": \"589261\",\n",
      "    \"duration\": \"11.872000\",\n",
      "    \"filename\": \"/Volumes/Video Captures/wellerDriveway/motion/2022/04/04/20220404_155807_23.mp4\",\n",
      "    \"format_long_name\": \"QuickTime / MOV\",\n",
      "    \"format_name\": \"mov,mp4,m4a,3gp,3g2,mj2\",\n",
      "    \"nb_programs\": 0,\n",
      "    \"nb_streams\": 1,\n",
      "    \"probe_score\": 100,\n",
      "    \"size\": \"874464\",\n",
      "    \"start_time\": \"0.035000\",\n",
      "    \"tags\": {\n",
      "      \"compatible_brands\": \"isomiso2avc1mp41\",\n",
      "      \"encoder\": \"Lavf58.20.100\",\n",
      "      \"major_brand\": \"isom\",\n",
      "      \"minor_version\": \"512\"\n",
      "    }\n",
      "  },\n",
      "  \"streams\": [\n",
      "    {\n",
      "      \"avg_frame_rate\": \"2092500/133549\",\n",
      "      \"bit_rate\": \"587212\",\n",
      "      \"bits_per_raw_sample\": \"8\",\n",
      "      \"chroma_location\": \"left\",\n",
      "      \"closed_captions\": 0,\n",
      "      \"codec_long_name\": \"H.264 / AVC / MPEG-4 AVC / MPEG-4 part 10\",\n",
      "      \"codec_name\": \"h264\",\n",
      "      \"codec_tag\": \"0x31637661\",\n",
      "      \"codec_tag_string\": \"avc1\",\n",
      "      \"codec_type\": \"video\",\n",
      "      \"coded_height\": 720,\n",
      "      \"coded_width\": 1280,\n",
      "      \"color_primaries\": \"bt709\",\n",
      "      \"color_range\": \"tv\",\n",
      "      \"color_space\": \"bt709\",\n",
      "      \"color_transfer\": \"bt709\",\n",
      "      \"display_aspect_ratio\": \"16:9\",\n",
      "      \"disposition\": {\n",
      "        \"attached_pic\": 0,\n",
      "        \"captions\": 0,\n",
      "        \"clean_effects\": 0,\n",
      "        \"comment\": 0,\n",
      "        \"default\": 1,\n",
      "        \"dependent\": 0,\n",
      "        \"descriptions\": 0,\n",
      "        \"dub\": 0,\n",
      "        \"forced\": 0,\n",
      "        \"hearing_impaired\": 0,\n",
      "        \"karaoke\": 0,\n",
      "        \"lyrics\": 0,\n",
      "        \"metadata\": 0,\n",
      "        \"original\": 0,\n",
      "        \"still_image\": 0,\n",
      "        \"timed_thumbnails\": 0,\n",
      "        \"visual_impaired\": 0\n",
      "      },\n",
      "      \"duration\": \"11.871022\",\n",
      "      \"duration_ts\": 1068392,\n",
      "      \"extradata_size\": 60,\n",
      "      \"field_order\": \"progressive\",\n",
      "      \"film_grain\": 0,\n",
      "      \"has_b_frames\": 0,\n",
      "      \"height\": 720,\n",
      "      \"id\": \"0x1\",\n",
      "      \"index\": 0,\n",
      "      \"is_avc\": \"true\",\n",
      "      \"level\": 31,\n",
      "      \"nal_length_size\": \"4\",\n",
      "      \"nb_frames\": \"186\",\n",
      "      \"pix_fmt\": \"yuv420p\",\n",
      "      \"profile\": \"High\",\n",
      "      \"r_frame_rate\": \"30000/1001\",\n",
      "      \"refs\": 1,\n",
      "      \"sample_aspect_ratio\": \"1:1\",\n",
      "      \"start_pts\": 3150,\n",
      "      \"start_time\": \"0.035000\",\n",
      "      \"tags\": {\n",
      "        \"handler_name\": \"VideoHandler\",\n",
      "        \"language\": \"und\",\n",
      "        \"vendor_id\": \"[0][0][0][0]\"\n",
      "      },\n",
      "      \"time_base\": \"1/90000\",\n",
      "      \"width\": 1280\n",
      "    }\n",
      "  ]\n",
      "}\n"
     ]
    }
   ],
   "source": [
    "info = ffmpeg.probe(video_file)\n",
    "print(json.dumps(info, indent=2, sort_keys=True))"
   ]
  },
  {
   "cell_type": "code",
   "execution_count": 4,
   "id": "bfec7522-0d6e-47d3-8b29-742af92b549b",
   "metadata": {},
   "outputs": [],
   "source": [
    "video_info = next(stream for stream in info['streams'] if stream['codec_type'] == 'video')\n",
    "width = int(video_info['width'])\n",
    "height = int (video_info['height'])\n",
    "num_frames = int(video_info['nb_frames'])"
   ]
  },
  {
   "cell_type": "code",
   "execution_count": 5,
   "id": "0ccf6cca-8706-4268-bd7c-0f90d0bad711",
   "metadata": {
    "collapsed": true,
    "jupyter": {
     "outputs_hidden": true
    },
    "tags": []
   },
   "outputs": [
    {
     "name": "stderr",
     "output_type": "stream",
     "text": [
      "ffmpeg version 5.0 Copyright (c) 2000-2022 the FFmpeg developers\n",
      "  built with Apple clang version 13.0.0 (clang-1300.0.29.30)\n",
      "  configuration: --prefix=/usr/local/Cellar/ffmpeg/5.0 --enable-shared --enable-pthreads --enable-version3 --cc=clang --host-cflags= --host-ldflags= --enable-ffplay --enable-gnutls --enable-gpl --enable-libaom --enable-libbluray --enable-libdav1d --enable-libmp3lame --enable-libopus --enable-librav1e --enable-librist --enable-librubberband --enable-libsnappy --enable-libsrt --enable-libtesseract --enable-libtheora --enable-libvidstab --enable-libvmaf --enable-libvorbis --enable-libvpx --enable-libwebp --enable-libx264 --enable-libx265 --enable-libxml2 --enable-libxvid --enable-lzma --enable-libfontconfig --enable-libfreetype --enable-frei0r --enable-libass --enable-libopencore-amrnb --enable-libopencore-amrwb --enable-libopenjpeg --enable-libspeex --enable-libsoxr --enable-libzmq --enable-libzimg --disable-libjack --disable-indev=jack --enable-videotoolbox\n",
      "  libavutil      57. 17.100 / 57. 17.100\n",
      "  libavcodec     59. 18.100 / 59. 18.100\n",
      "  libavformat    59. 16.100 / 59. 16.100\n",
      "  libavdevice    59.  4.100 / 59.  4.100\n",
      "  libavfilter     8. 24.100 /  8. 24.100\n",
      "  libswscale      6.  4.100 /  6.  4.100\n",
      "  libswresample   4.  3.100 /  4.  3.100\n",
      "  libpostproc    56.  3.100 / 56.  3.100\n",
      "Input #0, mov,mp4,m4a,3gp,3g2,mj2, from '/Volumes/Video Captures/wellerDriveway/motion/2022/04/04/20220404_155807_23.mp4':\n",
      "  Metadata:\n",
      "    major_brand     : isom\n",
      "    minor_version   : 512\n",
      "    compatible_brands: isomiso2avc1mp41\n",
      "    encoder         : Lavf58.20.100\n",
      "  Duration: 00:00:11.87, start: 0.035000, bitrate: 589 kb/s\n",
      "  Stream #0:0[0x1](und): Video: h264 (High) (avc1 / 0x31637661), yuv420p(tv, bt709, progressive), 1280x720 [SAR 1:1 DAR 16:9], 587 kb/s, 15.67 fps, 29.97 tbr, 90k tbn (default)\n",
      "    Metadata:\n",
      "      handler_name    : VideoHandler\n",
      "      vendor_id       : [0][0][0][0]\n",
      "Stream mapping:\n",
      "  Stream #0:0 -> #0:0 (h264 (native) -> rawvideo (native))\n",
      "Press [q] to stop, [?] for help\n",
      "Output #0, rawvideo, to 'pipe:':\n",
      "  Metadata:\n",
      "    major_brand     : isom\n",
      "    minor_version   : 512\n",
      "    compatible_brands: isomiso2avc1mp41\n",
      "    encoder         : Lavf59.16.100\n",
      "  Stream #0:0(und): Video: rawvideo (RGB[24] / 0x18424752), rgb24(pc, gbr/bt709/bt709, progressive), 1280x720 [SAR 1:1 DAR 16:9], q=2-31, 343211 kb/s, 15.52 fps, 15.52 tbn (default)\n",
      "    Metadata:\n",
      "      handler_name    : VideoHandler\n",
      "      vendor_id       : [0][0][0][0]\n",
      "      encoder         : Lavc59.18.100 rawvideo\n",
      "frame=  187 fps=0.0 q=-0.0 Lsize=  504900kB time=00:00:12.05 bitrate=343211.2kbits/s dup=1 drop=0 speed=23.8x    \n",
      "video:504900kB audio:0kB subtitle:0kB other streams:0kB global headers:0kB muxing overhead: 0.000000%\n"
     ]
    }
   ],
   "source": [
    "out, err = (\n",
    "    ffmpeg\n",
    "    .input(video_file)\n",
    "    .output('pipe:', format='rawvideo', pix_fmt='rgb24')\n",
    "    .run(capture_stdout=True)\n",
    ")\n",
    "video = (\n",
    "    np\n",
    "    .frombuffer(out, np.uint8)\n",
    "    .reshape([-1, height, width, 3])\n",
    ")"
   ]
  },
  {
   "cell_type": "code",
   "execution_count": 6,
   "id": "8b223341-c500-4a19-9e52-320d98eef526",
   "metadata": {},
   "outputs": [
    {
     "data": {
      "application/vnd.jupyter.widget-view+json": {
       "model_id": "e837fd859be64085b232c896f8ef4b09",
       "version_major": 2,
       "version_minor": 0
      },
      "text/plain": [
       "interactive(children=(IntSlider(value=0, description='frame', max=186), Output()), _dom_classes=('widget-inter…"
      ]
     },
     "metadata": {},
     "output_type": "display_data"
    }
   ],
   "source": [
    "@interact(frame=(0, num_frames))\n",
    "def show_frame(frame=0):\n",
    "    plt.imshow(video[frame,:,:,:])"
   ]
  },
  {
   "cell_type": "code",
   "execution_count": null,
   "id": "350df3c7-3f07-4bbd-be3d-c0b4c499cb1f",
   "metadata": {},
   "outputs": [],
   "source": []
  }
 ],
 "metadata": {
  "kernelspec": {
   "display_name": "Python 3 (ipykernel)",
   "language": "python",
   "name": "python3"
  },
  "language_info": {
   "codemirror_mode": {
    "name": "ipython",
    "version": 3
   },
   "file_extension": ".py",
   "mimetype": "text/x-python",
   "name": "python",
   "nbconvert_exporter": "python",
   "pygments_lexer": "ipython3",
   "version": "3.9.13"
  }
 },
 "nbformat": 4,
 "nbformat_minor": 5
}
