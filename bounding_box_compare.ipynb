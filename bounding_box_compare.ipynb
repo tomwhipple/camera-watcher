{
 "cells": [
  {
   "cell_type": "code",
   "execution_count": 1,
   "id": "c6314164-0fa7-49da-b6a4-4c3b8fc9ef99",
   "metadata": {},
   "outputs": [],
   "source": [
    "import sqlalchemy\n",
    "from sqlalchemy import text, select\n",
    "\n",
    "import cv2 as cv\n",
    "import numpy as np\n",
    "from matplotlib import pyplot as plt\n",
    "from ipywidgets import widgets, interactive, interact\n",
    "\n",
    "from watcher import *\n",
    "from watcher.video import *\n",
    "from bounding_box_exp import find_moving_objects, draw_boxes"
   ]
  },
  {
   "cell_type": "code",
   "execution_count": 10,
   "id": "cc06c9ad",
   "metadata": {},
   "outputs": [
    {
     "ename": "AttributeError",
     "evalue": "'Query' object has no attribute 'fetchall'",
     "output_type": "error",
     "traceback": [
      "\u001b[0;31m---------------------------------------------------------------------------\u001b[0m",
      "\u001b[0;31mAttributeError\u001b[0m                            Traceback (most recent call last)",
      "Input \u001b[0;32mIn [10]\u001b[0m, in \u001b[0;36m<cell line: 12>\u001b[0;34m()\u001b[0m\n\u001b[1;32m      9\u001b[0m tc \u001b[38;5;241m=\u001b[39m TunneledConnection()\n\u001b[1;32m     11\u001b[0m session \u001b[38;5;241m=\u001b[39m sqlalchemy\u001b[38;5;241m.\u001b[39morm\u001b[38;5;241m.\u001b[39mSession(tc\u001b[38;5;241m.\u001b[39mconnect())\n\u001b[0;32m---> 12\u001b[0m events \u001b[38;5;241m=\u001b[39m \u001b[43msession\u001b[49m\u001b[38;5;241;43m.\u001b[39;49m\u001b[43mquery\u001b[49m\u001b[43m(\u001b[49m\u001b[43m)\u001b[49m\u001b[38;5;241;43m.\u001b[39;49m\u001b[43mfrom_statement\u001b[49m\u001b[43m(\u001b[49m\u001b[43mtext\u001b[49m\u001b[43m(\u001b[49m\u001b[43mquery_most_recent_events\u001b[49m\u001b[43m)\u001b[49m\u001b[43m)\u001b[49m\u001b[38;5;241;43m.\u001b[39;49m\u001b[43mfetchall\u001b[49m()\n\u001b[1;32m     14\u001b[0m events\n",
      "\u001b[0;31mAttributeError\u001b[0m: 'Query' object has no attribute 'fetchall'"
     ]
    }
   ],
   "source": [
    "query_most_recent_events = \"\"\"\n",
    "select event_name from event_observations obs\n",
    "where obs.storage_local is True\n",
    "and obs.lighting_type = 'daylight'\n",
    "order by capture_time desc\n",
    "limit 50\n",
    "\"\"\"\n",
    "\n",
    "tc = TunneledConnection()\n",
    "\n",
    "session = sqlalchemy.orm.Session(tc.connect())\n",
    "events = session.query().from_statement(text(query_most_recent_events)).fetchall()\n",
    "\n",
    "events"
   ]
  },
  {
   "cell_type": "code",
   "execution_count": 12,
   "id": "9015f4d1-5f19-4661-9ed1-5bc8c481f306",
   "metadata": {},
   "outputs": [],
   "source": [
    "event_data = {}\n",
    "ev = None\n",
    "boxes = None\n",
    "plt.rcParams['figure.figsize'] = [20, 10]    "
   ]
  },
  {
   "cell_type": "code",
   "execution_count": 13,
   "id": "ac64c215-4274-4be3-a6d6-9032d01a03c5",
   "metadata": {},
   "outputs": [
    {
     "data": {
      "application/vnd.jupyter.widget-view+json": {
       "model_id": "7e5e7c2fe51a4be6a5f9664194512a94",
       "version_major": 2,
       "version_minor": 0
      },
      "text/plain": [
       "interactive(children=(Dropdown(description='event_name', options=('20220624_143148_wellerDriveway_16', '202206…"
      ]
     },
     "metadata": {},
     "output_type": "display_data"
    },
    {
     "data": {
      "application/vnd.jupyter.widget-view+json": {
       "model_id": "eb29e9ea7c244b8da8626921ac6733a5",
       "version_major": 2,
       "version_minor": 0
      },
      "text/plain": [
       "interactive(children=(IntSlider(value=106, description='frame', max=165), Output()), _dom_classes=('widget-int…"
      ]
     },
     "metadata": {},
     "output_type": "display_data"
    }
   ],
   "source": [
    "@interact(event_name=recent_events)\n",
    "def set_evt(event_name):\n",
    "    global ev, boxes\n",
    "    ev = event_data.get(event_name, EventVideo(name = event_name))\n",
    "    ev.load_frames();\n",
    "    boxes = find_moving_objects(ev.file, show_work=False)\n",
    "    event_data[event_name] = ev\n",
    "    \n",
    "@interact(frame=(0, ev.num_frames))\n",
    "def show_frame(frame=ev.most_significant_frame()):\n",
    "    global boxes\n",
    "    \n",
    "    frame_out = ev.frames[frame,:,:,:]\n",
    "    frame_out = draw_boxes(frame_out, boxes[frame])\n",
    "    frame_out = draw_boxes(frame_out, ev.event.boxes_for_frame(frame - 100), (255,0,0))\n",
    "    plt.imshow(frame_out)\n",
    "    \n",
    "    for m in sorted(ev.event.motions, key=lambda m: m.frame):\n",
    "        print(f\"frame: {m.frame} box: {m.box()}\")"
   ]
  },
  {
   "cell_type": "code",
   "execution_count": null,
   "id": "8d148f6f-2d36-4b88-bef6-f68b2168ad34",
   "metadata": {},
   "outputs": [],
   "source": [
    "boxes"
   ]
  }
 ],
 "metadata": {
  "kernelspec": {
   "display_name": "Python 3 (ipykernel)",
   "language": "python",
   "name": "python3"
  },
  "language_info": {
   "codemirror_mode": {
    "name": "ipython",
    "version": 3
   },
   "file_extension": ".py",
   "mimetype": "text/x-python",
   "name": "python",
   "nbconvert_exporter": "python",
   "pygments_lexer": "ipython3",
   "version": "3.9.13"
  }
 },
 "nbformat": 4,
 "nbformat_minor": 5
}
