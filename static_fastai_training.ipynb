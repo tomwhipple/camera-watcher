{
 "cells": [
  {
   "cell_type": "code",
   "execution_count": null,
   "id": "5820e198-ea1a-474f-aa7a-ac0807f94eab",
   "metadata": {},
   "outputs": [],
   "source": [
    "from datetime import datetime\n",
    "\n",
    "from fastai.vision.all import *\n",
    "from watcher.training import *"
   ]
  },
  {
   "cell_type": "code",
   "execution_count": null,
   "id": "e32950c3-959a-4613-acba-8e98d852175c",
   "metadata": {},
   "outputs": [],
   "source": [
    "csv_file = labeled_as_csv()\n",
    "csv_file"
   ]
  },
  {
   "cell_type": "code",
   "execution_count": null,
   "id": "ba2d8202-2b60-4cca-bd52-830650022d79",
   "metadata": {},
   "outputs": [],
   "source": [
    "df = pd.read_csv(csv_file, header=None, names=['imagefile','label'])\n",
    "df"
   ]
  },
  {
   "cell_type": "code",
   "execution_count": null,
   "id": "d6296a3e-a63e-4ff2-969d-031566004306",
   "metadata": {},
   "outputs": [],
   "source": [
    "sorted(pd.unique(df.label))"
   ]
  },
  {
   "cell_type": "code",
   "execution_count": null,
   "id": "63bcb0c1-7538-4c7a-bc3a-9d518a479c40",
   "metadata": {},
   "outputs": [],
   "source": [
    "dls = ImageDataLoaders.from_df(df,\n",
    "                            cols='imagefile',\n",
    "                            label_col='label',\n",
    "                            item_tfms=Resize(320, method='squish'),\n",
    "                            batch_tfms=[*aug_transforms(size=224), Normalize.from_stats(*imagenet_stats)],\n",
    "                            bs=100)"
   ]
  },
  {
   "cell_type": "code",
   "execution_count": null,
   "id": "558676b8-cb7c-45af-9d67-6fdb713af877",
   "metadata": {},
   "outputs": [],
   "source": [
    "dls.show_batch()"
   ]
  },
  {
   "cell_type": "code",
   "execution_count": null,
   "id": "82a4b9ab-389d-46e1-83aa-9a45f4929578",
   "metadata": {},
   "outputs": [],
   "source": [
    "learn = vision_learner(dls, resnet18, metrics=error_rate)\n",
    "learn.fine_tune(10)"
   ]
  },
  {
   "cell_type": "code",
   "execution_count": null,
   "id": "071e0f50-1937-45fa-8f1b-2e84e4fcaa0b",
   "metadata": {},
   "outputs": [],
   "source": [
    "learn.fine_tune(10)"
   ]
  },
  {
   "cell_type": "code",
   "execution_count": null,
   "id": "86a39260-f620-4c90-9ad7-73dcfe1f3f8e",
   "metadata": {},
   "outputs": [],
   "source": [
    "fname = 'driveway-model-' + datetime.now().isoformat() + '.pkl'\n",
    "learn.export(fname)\n",
    "fname"
   ]
  }
 ],
 "metadata": {
  "kernelspec": {
   "display_name": "Python 3 (ipykernel)",
   "language": "python",
   "name": "python3"
  },
  "language_info": {
   "codemirror_mode": {
    "name": "ipython",
    "version": 3
   },
   "file_extension": ".py",
   "mimetype": "text/x-python",
   "name": "python",
   "nbconvert_exporter": "python",
   "pygments_lexer": "ipython3",
   "version": "3.10.12"
  }
 },
 "nbformat": 4,
 "nbformat_minor": 5
}
