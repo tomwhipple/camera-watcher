{
 "cells": [
  {
   "cell_type": "code",
   "execution_count": null,
   "id": "5820e198-ea1a-474f-aa7a-ac0807f94eab",
   "metadata": {},
   "outputs": [],
   "source": [
    "import sqlalchemy\n",
    "from sqlalchemy import select\n",
    "from datetime import datetime\n",
    "from pathlib import Path\n",
    "\n",
    "from fastai.vision.all import *\n",
    "from watcher.training import *\n",
    "\n",
    "from watcher import *"
   ]
  },
  {
   "cell_type": "markdown",
   "id": "cfc1396b-05a0-4e8c-a97f-eaa8b4d72bc2",
   "metadata": {},
   "source": [
    "## Load and explore data"
   ]
  },
  {
   "cell_type": "code",
   "execution_count": null,
   "id": "e55e4212-55db-4b65-9bb2-e86269c39fc5",
   "metadata": {},
   "outputs": [],
   "source": [
    "tc = TunneledConnection()\n",
    "session = sqlalchemy.orm.Session(tc)"
   ]
  },
  {
   "cell_type": "code",
   "execution_count": null,
   "id": "de2502fd-4cba-463a-b80c-16cba86ae3ae",
   "metadata": {},
   "outputs": [],
   "source": [
    "unique_labels = UniqueClassificationLabels(session)\n",
    "unique_labels"
   ]
  },
  {
   "cell_type": "code",
   "execution_count": null,
   "id": "c7a5c14d-b0a9-4d0b-a120-b333b8b03e9e",
   "metadata": {},
   "outputs": [],
   "source": [
    "stmt = (select(EventClassification,Computation)\n",
    "        .join(EventObservation, EventObservation.id == EventClassification.observation_id)\n",
    "        .join(Computation, EventObservation.event_name == Computation.event_name)\n",
    "        .where(EventClassification.confidence == None)\n",
    "        .where(Computation.result_file != None)\n",
    "       )\n",
    "\n",
    "results = session.execute(stmt)\n",
    "\n",
    "labelings = {}\n",
    "for r in results:\n",
    "    name = r[1].event_name\n",
    "    file = Path(r[1].result_file_location) / r[1].result_file\n",
    "    item = labelings.get(name,{\n",
    "        'file': file,\n",
    "        'lbls': []\n",
    "    })\n",
    "    item['lbls'].append('noise' if r[0].label.startswith('noise') else r[0].label)\n",
    "    labelings[name] = item\n",
    "\n",
    "data = [[k, str(v['file']), ' & '.join(sorted(v['lbls']))] for k, v in labelings.items()]\n",
    "    \n",
    "\n",
    "df = pd.DataFrame(data=data, columns=['event_name','file','label'])\n",
    "df"
   ]
  },
  {
   "cell_type": "code",
   "execution_count": null,
   "id": "80efdbe4-2acd-4f44-bcb1-0d9688052424",
   "metadata": {},
   "outputs": [],
   "source": [
    "session.close()\n",
    "tc.disconnect()"
   ]
  },
  {
   "cell_type": "markdown",
   "id": "0e60247e-a189-46c0-b924-8e1f8ada8fd8",
   "metadata": {},
   "source": [
    "## Train a model"
   ]
  },
  {
   "cell_type": "code",
   "execution_count": null,
   "id": "7bd918cb-0864-4d74-9eab-8055228db441",
   "metadata": {},
   "outputs": [],
   "source": [
    "root = !pwd\n",
    "base_path = Path(root[0]) / application_config('system','LOCAL_DATA_DIR')\n",
    "base_path"
   ]
  },
  {
   "cell_type": "code",
   "execution_count": null,
   "id": "34058f0d-c182-4974-af81-2d7fc5fe282d",
   "metadata": {},
   "outputs": [],
   "source": [
    "dls = ImageDataLoaders.from_df(df, base_path, label_delim=' & ',\n",
    "                               fn_col='file',\n",
    "                               label_col='label',\n",
    "                               item_tfms=Resize(460),\n",
    "                               batch_tfms=aug_transforms(size=224))"
   ]
  },
  {
   "cell_type": "code",
   "execution_count": null,
   "id": "be88743d-015e-4825-bb0b-3dc9820443dd",
   "metadata": {},
   "outputs": [],
   "source": [
    "dls.show_batch()"
   ]
  },
  {
   "cell_type": "markdown",
   "id": "033530a0-3c17-4ea8-b68b-6235b986b8cd",
   "metadata": {},
   "source": [
    "from the [fast.ai tutorial](https://docs.fast.ai/tutorial.vision.html#multi-label-classification---using-the-high-level-api):"
   ]
  },
  {
   "cell_type": "code",
   "execution_count": null,
   "id": "80eca874-fbff-49ae-be88-624cb5bfd07f",
   "metadata": {},
   "outputs": [],
   "source": [
    "f1_macro = F1ScoreMulti(thresh=0.5, average='macro')\n",
    "f1_macro.name = 'F1(macro)'\n",
    "f1_samples = F1ScoreMulti(thresh=0.5, average='samples')\n",
    "f1_samples.name = 'F1(samples)'\n",
    "learn = vision_learner(dls, resnet50, metrics=[partial(accuracy_multi, thresh=0.5), f1_macro, f1_samples])"
   ]
  },
  {
   "cell_type": "code",
   "execution_count": null,
   "id": "a6cd262d-e147-4444-83b7-1c4598159762",
   "metadata": {},
   "outputs": [],
   "source": [
    "learning_rate = learn.lr_find()\n",
    "learning_rate"
   ]
  },
  {
   "cell_type": "code",
   "execution_count": null,
   "id": "82a4b9ab-389d-46e1-83aa-9a45f4929578",
   "metadata": {},
   "outputs": [],
   "source": [
    "learn.fine_tune(15, learning_rate.valley)"
   ]
  },
  {
   "cell_type": "markdown",
   "id": "f417f4f8-f069-444f-96a8-ea7f70d6b381",
   "metadata": {},
   "source": [
    "## Qualitative inspection\n",
    "\n",
    "i.e. take a look!"
   ]
  },
  {
   "cell_type": "code",
   "execution_count": null,
   "id": "bd0cbf3a-2c01-4bc5-80da-fdd3a24bafb9",
   "metadata": {},
   "outputs": [],
   "source": [
    "learn.show_results()"
   ]
  },
  {
   "cell_type": "markdown",
   "id": "5c59d6a9-966f-498f-b591-5dcbdc75c2ec",
   "metadata": {},
   "source": [
    "### run a few samples\n",
    "\n",
    "need some better utilities here."
   ]
  },
  {
   "cell_type": "markdown",
   "id": "578c9bad-d862-4956-a1b6-d6f7e62ca393",
   "metadata": {},
   "source": [
    "## Save it!\n",
    "\n",
    "Filename goes in application.cfg to use"
   ]
  },
  {
   "cell_type": "code",
   "execution_count": null,
   "id": "86a39260-f620-4c90-9ad7-73dcfe1f3f8e",
   "metadata": {},
   "outputs": [],
   "source": [
    "timestamp = datetime.now().isoformat() \n",
    "modeldir = Path(root[0]) / 'etc' \n",
    "filepath = str( modeldir / f\"model-{timestamp}.fastai.pkl\")\n",
    "learn.export(filepath)\n",
    "filepath"
   ]
  },
  {
   "cell_type": "code",
   "execution_count": null,
   "id": "bef827eb-7568-4722-88f7-4f7d4067484a",
   "metadata": {},
   "outputs": [],
   "source": []
  }
 ],
 "metadata": {
  "kernelspec": {
   "display_name": "Python 3 (ipykernel)",
   "language": "python",
   "name": "python3"
  },
  "language_info": {
   "codemirror_mode": {
    "name": "ipython",
    "version": 3
   },
   "file_extension": ".py",
   "mimetype": "text/x-python",
   "name": "python",
   "nbconvert_exporter": "python",
   "pygments_lexer": "ipython3",
   "version": "3.10.12"
  }
 },
 "nbformat": 4,
 "nbformat_minor": 5
}
